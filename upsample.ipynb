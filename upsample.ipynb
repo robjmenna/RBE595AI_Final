{
 "cells": [
  {
   "cell_type": "code",
   "execution_count": 1,
   "metadata": {},
   "outputs": [
    {
     "name": "stdout",
     "output_type": "stream",
     "text": [
      "384\n",
      "1248\n"
     ]
    }
   ],
   "source": [
    "import utils\n",
    "import os\n",
    "import cv2\n",
    "import numpy as np\n",
    "\n",
    "files = os.listdir('data_road/training/gt_image_2')\n",
    "max_x = 0\n",
    "max_y = 0\n",
    "for file in files:\n",
    "    image = cv2.imread(f'data_road/training/gt_image_2/{file}')\n",
    "    label = utils.preprocessdataseg(image)\n",
    "    if max_x < label.shape[0]:\n",
    "        max_x = label.shape[0]\n",
    "    if max_y < label.shape[1]:\n",
    "        max_y = label.shape[1]\n",
    "\n",
    "    name = file.split('.')\n",
    "    np.save(f'data_road/training/labels/{name[0]}.npy', label)\n",
    "\n",
    "print(max_x)\n",
    "print(max_y)"
   ]
  },
  {
   "cell_type": "code",
   "execution_count": null,
   "metadata": {},
   "outputs": [],
   "source": []
  }
 ],
 "metadata": {
  "interpreter": {
   "hash": "fe04e7551349be356b1660f74e1694a40cf1c4170165b6f158115363f805dfd7"
  },
  "kernelspec": {
   "display_name": "Python 3.8.12 ('tf')",
   "language": "python",
   "name": "python3"
  },
  "language_info": {
   "codemirror_mode": {
    "name": "ipython",
    "version": 3
   },
   "file_extension": ".py",
   "mimetype": "text/x-python",
   "name": "python",
   "nbconvert_exporter": "python",
   "pygments_lexer": "ipython3",
   "version": "3.8.12"
  },
  "orig_nbformat": 4
 },
 "nbformat": 4,
 "nbformat_minor": 2
}
