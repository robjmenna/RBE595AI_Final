{
 "cells": [
  {
   "cell_type": "code",
   "execution_count": 1,
   "metadata": {},
   "outputs": [
    {
     "name": "stdout",
     "output_type": "stream",
     "text": [
      "E:595DeepLearning\\TermProject\\data_road\\training\\image_2\n",
      "E:595DeepLearning\\TermProject\\data_road\\training\\gt_image_2\n"
     ]
    }
   ],
   "source": [
    "import tensorflow as tf\n",
    "from tensorflow.keras.layers import Dense, Conv2D, Conv1D, LSTM, MaxPool2D, Flatten, InputLayer, Reshape, TimeDistributed\n",
    "from tensorflow.keras.models import Sequential, load_model\n",
    "import os\n",
    "import cv2\n",
    "import numpy as np\n",
    "import matplotlib.pyplot as plt\n",
    "import pandas as pd\n",
    "from datetime import datetime\n",
    "\n",
    "load_data = True\n",
    "load_model_from_file = False\n",
    "\n",
    "# data_path = os.path.join('data_road','training')\n",
    "data_path = os.path.join('E:', '595DeepLearning', 'TermProject', 'data_road','training')\n",
    "training_data_path = os.path.join(data_path, \"image_2\")\n",
    "label_data_path = os.path.join(data_path, \"gt_image_2\")\n",
    "print(training_data_path)\n",
    "print(label_data_path)\n",
    "\n",
    "def create_model():\n",
    "    model = Sequential([\n",
    "        InputLayer(input_shape=(160,600,5)),\n",
    "        Conv2D(64, (3,3), padding='same', activation='relu'),\n",
    "        Conv2D(64, (3,3), padding='same', activation='relu'),\n",
    "        MaxPool2D(),\n",
    "        Conv2D(64, (3,3), padding='same', activation='relu'),\n",
    "        Conv2D(64, (3,3), padding='same', activation='relu'),\n",
    "        MaxPool2D(),\n",
    "        Conv2D(64, (3,3), padding='same', activation='relu'),\n",
    "        Conv2D(64, (3,3), padding='same', activation='relu'),\n",
    "        MaxPool2D(),\n",
    "        Conv2D(64, (3,3), padding='same', activation='relu'),\n",
    "        TimeDistributed(LSTM(64, return_sequences=True)),\n",
    "        Conv2D(64, (3,3), padding='same', activation='relu'),\n",
    "        TimeDistributed(LSTM(64, return_sequences=True)),\n",
    "        Conv2D(64, (1,5), strides=(1,4), activation='relu'),\n",
    "        Conv2D(1, (1,4), activation='relu'),\n",
    "        Flatten(),\n",
    "        Dense(600, activation='linear')\n",
    "    ])\n",
    "\n",
    "    model.compile(optimizer='adam', loss='mean_squared_error', metrics=['accuracy'])\n",
    "    return model\n",
    "\n",
    "def crop_image(image):\n",
    "    \"\"\"\n",
    "    Crop center 600x160 of the image and recale pixel values to [0,1]\n",
    "    \"\"\"\n",
    "    height, width, _ = image.shape\n",
    "    ymin = int(height/2-80)\n",
    "    ymax = int(height/2+80)\n",
    "    xmin = int(width/2-300)\n",
    "    xmax = int(width/2+300)\n",
    "    cropped = image[ymin:ymax, xmin:xmax]\n",
    "    return cropped\n",
    "\n",
    "def resize_image(image):\n",
    "    \"\"\"\n",
    "    Resize image to 600x160 and recale pixel values to [0,1]\n",
    "    \"\"\"\n",
    "    resized = cv2.resize(image, dsize=(600, 160), interpolation=cv2.INTER_CUBIC)\n",
    "    return resized\n",
    "\n",
    "def process_and_normalize_image(image):\n",
    "    image = image.astype('float32')\n",
    "    image /= 255.0\n",
    "    return image\n"
   ]
  },
  {
   "cell_type": "code",
   "execution_count": 2,
   "metadata": {},
   "outputs": [],
   "source": [
    "names_df = pd.DataFrame(columns=('image_path', 'label_path'))\n",
    "image_paths = os.listdir(training_data_path)\n",
    "\n",
    "for image_filename in image_paths:\n",
    "    x = image_filename.split(\"_\")\n",
    "    label_path = \"_\".join([x[0], \"road\", x[1]])\n",
    "    dict1 = {'image_path': image_filename, 'label_path': label_path}\n",
    "    names_df = names_df.append(dict1, ignore_index = True)\n",
    "    \n"
   ]
  },
  {
   "cell_type": "code",
   "execution_count": 3,
   "metadata": {},
   "outputs": [],
   "source": [
    "# Prepare training data\n",
    "\n",
    "if not load_data:\n",
    "    # Get all filenames\n",
    "    image_paths = os.listdir(training_data_path)\n",
    "\n",
    "    plot_train_images = False\n",
    "    resized_input_image_array = []\n",
    "    cropped_input_image_array = []\n",
    "\n",
    "    counter = 0\n",
    "    for idx, values in names_df.iterrows():\n",
    "        image_filename = values.image_path\n",
    "        counter += 1\n",
    "        if counter % 20 == 0:\n",
    "            print(\"Processed {} of {} images\".format(counter, len(names_df.index)))\n",
    "        image_path = os.path.join(training_data_path, image_filename)\n",
    "\n",
    "        # Load image and create resized and cropped versions\n",
    "        image = cv2.imread(image_path)\n",
    "        resized_imshow = resize_image(image)\n",
    "        resized = process_and_normalize_image(resized_imshow)\n",
    "        cropped_imshow = crop_image(image)\n",
    "        cropped = process_and_normalize_image(cropped_imshow)\n",
    "\n",
    "        # Prepare the 4th and 5th dimensions which will be horizontal and verticles indices respectively\n",
    "        # Refer to https://arxiv.org/pdf/1808.04450.pdf section \"IV.B.1 Preprocessing\"\n",
    "        rows = np.ndarray([160,600])\n",
    "        for i in range(160):\n",
    "            rows[i, :] = i+1  * np.ones([600])\n",
    "        columns = np.ndarray([160,600])\n",
    "        for i in range(600):\n",
    "            columns[:, i] = i+1 * np.ones([160])\n",
    "        rows = np.expand_dims(rows, 2)\n",
    "        columns = np.expand_dims(columns, 2)\n",
    "\n",
    "        # Add row and column dimensions to our images to create 600x160x5 input tensors\n",
    "        image_tensor_resized = np.concatenate([resized, rows, columns], axis=2)\n",
    "        image_tensor_cropped = np.concatenate([cropped, rows, columns], axis=2)\n",
    "\n",
    "        # Plot images if boolean above is set to True\n",
    "        # Should only do this if processing a couple of images otherwise matplotlip won't be happy with YOU!\n",
    "        if plot_train_images:\n",
    "            fig, (ax1, ax2) = plt.subplots(1,2)\n",
    "            ax1.imshow(image_tensor_resized[:,:,0:3])\n",
    "            ax1.set_title(\"resized\")\n",
    "            ax2.imshow(image_tensor_cropped[:,:,0:3])\n",
    "            ax2.set_title(\"cropped\")\n",
    "\n",
    "        # Add the input tensors to the data arrays\n",
    "        resized_input_image_array.append(image_tensor_resized)\n",
    "        cropped_input_image_array.append(image_tensor_cropped)\n",
    "    print(\"Processed {} of {} labels\".format(counter, len(names_df.index)))\n"
   ]
  },
  {
   "cell_type": "code",
   "execution_count": 4,
   "metadata": {},
   "outputs": [],
   "source": [
    "# Prepare training labels\n",
    "\n",
    "if not load_data:\n",
    "    # Get all filenames\n",
    "    label_paths = os.listdir(label_data_path)\n",
    "\n",
    "    plot_label_images = False\n",
    "    resized_label_array = []\n",
    "    cropped_label_array = []\n",
    "\n",
    "    # Loop through all images in the labeled picture directory\n",
    "    counter = 0\n",
    "    for idx, values in names_df.iterrows():\n",
    "        image_filename = values.label_path\n",
    "    #     print(label_image)\n",
    "    #     print(\"road\" not in label_image)\n",
    "    #     if \"road\" not in label_image:\n",
    "    #         print(\"skipping\")\n",
    "    #         continue\n",
    "        counter += 1\n",
    "        if counter % 20 == 0:\n",
    "            print(\"Processed {} of {} labels\".format(counter, len(names_df.index)))\n",
    "\n",
    "        # Load the image and create a resized and cropped version\n",
    "        image_path = os.path.join(label_data_path, image_filename)\n",
    "        image = cv2.imread(image_path)\n",
    "        resized_imshow = resize_image(image)\n",
    "        resized = process_and_normalize_image(resized_imshow)\n",
    "        cropped_imshow = crop_image(image)\n",
    "        cropped = process_and_normalize_image(cropped_imshow)\n",
    "\n",
    "        # Initialize the 600x1x1 ndarray to be used as the label for this data point\n",
    "        # The value is the height of the column where the road borders non-road\n",
    "        resized_label_img = np.ndarray([600])\n",
    "        cropped_label_img = np.ndarray([600])\n",
    "\n",
    "        # Loop through each column of the image to see where the road segmentation begins in the label\n",
    "        for i in range(resized.shape[1]):\n",
    "            # Check the through the resized image to see where the segmentation begins\n",
    "            for j in range(resized.shape[0]):\n",
    "                if np.array_equiv(resized[j,i],[1.,0.,1.]):\n",
    "                    break\n",
    "            resized_label_img[i] = j+1\n",
    "\n",
    "            # Check through the cropped image to see where the segmentation begins\n",
    "            for j in range(resized.shape[0]):\n",
    "                if np.array_equiv(cropped[j,i],[1.,0.,1.]):\n",
    "                    break\n",
    "            cropped_label_img[i] = j+1\n",
    "\n",
    "        # Add the 600x1x1 label to the label array\n",
    "        resized_label_array.append(resized_label_img)\n",
    "        cropped_label_array.append(cropped_label_img)\n",
    "\n",
    "        # Plot images if boolean above is set to True\n",
    "        # Should only do this if processing a couple of images otherwise matplotlip won't be happy with YOU, yes YOU!!\n",
    "        if plot_label_images:\n",
    "            fig, (ax1) = plt.subplots(1,2)\n",
    "            ax1.imshow(resized)\n",
    "            ax1.set_title(\"resized label\")\n",
    "            ax2.imshow(cropped)\n",
    "            ax2.set_title(\"cropped label\")\n",
    "    print(\"Processed {} of {} labels\".format(counter, len(names_df.index)))\n",
    "\n"
   ]
  },
  {
   "cell_type": "code",
   "execution_count": 5,
   "metadata": {},
   "outputs": [],
   "source": [
    "if not load_data:\n",
    "    # Convert data and label arrays to nparrays before feeding it to the models\n",
    "    resized_input_image_array_np = np.array(resized_input_image_array)\n",
    "    resized_input_image_array_np = resized_input_image_array_np.astype('float32')\n",
    "    cropped_input_image_array_np = np.array(cropped_input_image_array)\n",
    "    cropped_input_image_array_np = cropped_input_image_array_np.astype('float32')\n",
    "    resized_label_array_np = np.array(resized_label_array)\n",
    "    cropped_label_array_np = np.array(cropped_label_array)\n",
    "\n",
    "    if not os.path.isdir(\"data\"):\n",
    "        os.mkdir(\"data\")\n",
    "    np.save(os.path.join('data', 'resized_input_image_array_np'), resized_input_image_array_np)\n",
    "    np.save(os.path.join('data', 'cropped_input_image_array_np'), cropped_input_image_array_np)\n",
    "    np.save(os.path.join('data', 'resized_label_array_np'), resized_label_array_np)\n",
    "    np.save(os.path.join('data', 'cropped_label_array_np'), cropped_label_array_np)"
   ]
  },
  {
   "cell_type": "code",
   "execution_count": 6,
   "metadata": {},
   "outputs": [],
   "source": [
    "if load_data:\n",
    "    resized_input_image_array_np = np.load(os.path.join('data', 'resized_input_image_array_np.npy'))\n",
    "    cropped_input_image_array_np = np.load(os.path.join('data', 'cropped_input_image_array_np.npy'))\n",
    "    resized_label_array_np = np.load(os.path.join('data', 'resized_label_array_np.npy'))\n",
    "    cropped_label_array_np = np.load(os.path.join('data', 'cropped_label_array_np.npy'))\n"
   ]
  },
  {
   "cell_type": "code",
   "execution_count": 7,
   "metadata": {},
   "outputs": [
    {
     "name": "stdout",
     "output_type": "stream",
     "text": [
      "(289, 160, 600, 5)\n",
      "(289, 160, 600, 5)\n",
      "(289, 600)\n",
      "(289, 600)\n"
     ]
    }
   ],
   "source": [
    "print(resized_input_image_array_np.shape)\n",
    "print(cropped_input_image_array_np.shape)\n",
    "print(resized_label_array_np.shape)\n",
    "print(cropped_label_array_np.shape)\n"
   ]
  },
  {
   "cell_type": "code",
   "execution_count": 8,
   "metadata": {},
   "outputs": [
    {
     "name": "stdout",
     "output_type": "stream",
     "text": [
      "WARNING:tensorflow:From C:\\Users\\Zeke\\anaconda3\\envs\\newenvironmentname\\lib\\site-packages\\tensorflow_core\\python\\ops\\resource_variable_ops.py:1630: calling BaseResourceVariable.__init__ (from tensorflow.python.ops.resource_variable_ops) with constraint is deprecated and will be removed in a future version.\n",
      "Instructions for updating:\n",
      "If using Keras pass *_constraint arguments to layers.\n",
      "WARNING:tensorflow:From C:\\Users\\Zeke\\anaconda3\\envs\\newenvironmentname\\lib\\site-packages\\tensorflow_core\\python\\ops\\math_grad.py:1424: where (from tensorflow.python.ops.array_ops) is deprecated and will be removed in a future version.\n",
      "Instructions for updating:\n",
      "Use tf.where in 2.0, which has the same broadcast rule as np.where\n",
      "Train on 289 samples\n",
      "Epoch 1/8\n",
      "289/289 [==============================] - 113s 391ms/sample - loss: 17440.6470 - acc: 0.0484\n",
      "Epoch 2/8\n",
      "289/289 [==============================] - 114s 395ms/sample - loss: 8079.8554 - acc: 0.0000e+00\n",
      "Epoch 3/8\n",
      "289/289 [==============================] - 115s 399ms/sample - loss: 1577.9639 - acc: 0.0000e+00\n",
      "Epoch 4/8\n",
      "289/289 [==============================] - 116s 401ms/sample - loss: 588.8968 - acc: 0.0000e+00\n",
      "Epoch 5/8\n",
      "289/289 [==============================] - 116s 402ms/sample - loss: 384.4119 - acc: 0.0000e+00\n",
      "Epoch 6/8\n",
      "289/289 [==============================] - 116s 402ms/sample - loss: 281.1376 - acc: 0.0000e+00\n",
      "Epoch 7/8\n",
      "289/289 [==============================] - 121s 417ms/sample - loss: 284.5465 - acc: 0.0000e+00\n",
      "Epoch 8/8\n",
      "289/289 [==============================] - 120s 414ms/sample - loss: 268.9618 - acc: 0.0069\n"
     ]
    }
   ],
   "source": [
    "if not load_model_from_file:\n",
    "    # Create the models\n",
    "    tf.keras.backend.clear_session()\n",
    "    resized_model = create_model()\n",
    "    resized_model.fit(resized_input_image_array_np, resized_label_array_np, epochs=8)\n",
    "    if not os.path.isdir(\"models\"):\n",
    "        os.mkdir(\"models\")\n",
    "    model_loss = int(history.history['loss'][-1])\n",
    "    resized_model.save(os.path.join(\"models\", \"resized_model_loss_{}_time_{}.h5\".format(model_loss, datetime.utcnow().strftime(\"%Y_%m_%d_%H_%M_%S\"))))\n",
    "\n",
    "# Check dem summaries\n",
    "# resized_model.summary()\n"
   ]
  },
  {
   "cell_type": "code",
   "execution_count": 9,
   "metadata": {},
   "outputs": [],
   "source": [
    "if load_model_from_file:\n",
    "    for path in os.listdir(\"models\"):\n",
    "        if \"resized_model\" in path:\n",
    "            print(\"Loading model from file {}\".format(path))\n",
    "            resized_model = keras.models.load_model(path)\n",
    "            break\n"
   ]
  },
  {
   "cell_type": "code",
   "execution_count": 17,
   "metadata": {},
   "outputs": [
    {
     "name": "stdout",
     "output_type": "stream",
     "text": [
      "BAHHHHH\n",
      "BOOOOOO\n"
     ]
    },
    {
     "data": {
      "image/png": "[encoded data removed]",
      "text/plain": [
       "<Figure size 432x288 with 2 Axes>"
      ]
     },
     "metadata": {
      "needs_background": "light"
     },
     "output_type": "display_data"
    },
    {
     "data": {
      "image/png": "[encoded data removed]",
      "text/plain": [
       "<Figure size 432x288 with 2 Axes>"
      ]
     },
     "metadata": {
      "needs_background": "light"
     },
     "output_type": "display_data"
    },
    {
     "data": {
      "image/png": "[encoded data removed]",
      "text/plain": [
       "<Figure size 432x288 with 2 Axes>"
      ]
     },
     "metadata": {
      "needs_background": "light"
     },
     "output_type": "display_data"
    },
    {
     "data": {
      "image/png": "[encoded data removed]",
      "text/plain": [
       "<Figure size 432x288 with 2 Axes>"
      ]
     },
     "metadata": {
      "needs_background": "light"
     },
     "output_type": "display_data"
    },
    {
     "data": {
      "image/png": "[encoded data removed]",
      "text/plain": [
       "<Figure size 432x288 with 2 Axes>"
      ]
     },
     "metadata": {
      "needs_background": "light"
     },
     "output_type": "display_data"
    },
    {
     "data": {
      "image/png": "[encoded data removed]",
      "text/plain": [
       "<Figure size 432x288 with 2 Axes>"
      ]
     },
     "metadata": {
      "needs_background": "light"
     },
     "output_type": "display_data"
    }
   ],
   "source": [
    "previous_image = np.expand_dims(resized_input_image_array_np[0, :, :, :], 0)\n",
    "previous_pred = resized_model.predict(previous_image).reshape(1,600)\n",
    "for i in range(resized_input_image_array_np.shape[0]):\n",
    "    if i > 5:\n",
    "        break\n",
    "    image_to_predict = np.expand_dims(resized_input_image_array_np[i, :, :, :], 0)\n",
    "    image_label_being_predicted = resized_label_array_np[i,:].reshape(1,600)\n",
    "#     print(image_to_predict.shape)\n",
    "#     print(image_label_being_predicted.shape)\n",
    "    prediction = resized_model.predict(image_to_predict)\n",
    "#     print(prediction.shape)\n",
    "    # print(prediction)\n",
    "    if np.array_equiv(previous_image, image_to_predict):\n",
    "        print(\"BAHHHHH\")\n",
    "    if np.array_equiv(previous_pred, prediction):\n",
    "        print(\"BOOOOOO\")\n",
    "#         print(prediction)\n",
    "    previous_image = image_to_predict\n",
    "    previous_pred = prediction\n",
    "    image_pred = np.zeros([160,600,1])\n",
    "    image = np.zeros([160,600,1])\n",
    "#     print(image.shape)\n",
    "    for col_num in range(600):\n",
    "        image_pred[int(prediction[0][col_num]-1), col_num, 0] = 1\n",
    "        image[int(image_label_being_predicted[0][col_num]-1), col_num, 0] = 1\n",
    "\n",
    "    fig, (ax1, ax2) = plt.subplots(1,2)\n",
    "    ax1.imshow(cv2.resize(image_pred, dsize=(1242, 375), interpolation=cv2.INTER_CUBIC))\n",
    "    ax1.set_title(\"pred\")\n",
    "    ax2.imshow(image)\n",
    "    ax2.set_title(\"original\")"
   ]
  },
  {
   "cell_type": "code",
   "execution_count": 21,
   "metadata": {},
   "outputs": [
    {
     "name": "stdout",
     "output_type": "stream",
     "text": [
      "Train on 289 samples\n",
      "289/289 [==============================] - 116s 401ms/sample - loss: 18121.4279 - acc: 0.0830\n"
     ]
    }
   ],
   "source": [
    "if not load_model_from_file:\n",
    "\n",
    "    # Create the models\n",
    "    tf.keras.backend.clear_session()\n",
    "    cropped_model = create_model()\n",
    "    \n",
    "    # Train the model\n",
    "#     history = cropped_model.fit(cropped_input_image_array_np, cropped_label_array_np, epochs=1)\n",
    "    history = cropped_model.fit(cropped_input_image_array_np, cropped_label_array_np, epochs=8)\n",
    "    if not os.path.isdir(\"models\"):\n",
    "        os.mkdir(\"models\")\n",
    "    model_loss = int(history.history['loss'][-1])\n",
    "    cropped_model.save(os.path.join(\"models\", \"cropped_model_loss_{}_time_{}.h5\".format(model_loss, datetime.utcnow().strftime(\"%Y_%m_%d_%H_%M_%S\"))))\n",
    "\n",
    "# Check dem summaries\n",
    "# cropped_model.summary()\n"
   ]
  },
  {
   "cell_type": "code",
   "execution_count": 19,
   "metadata": {},
   "outputs": [],
   "source": [
    "if load_model_from_file:\n",
    "    for path in os.listdir(\"models\"):\n",
    "        if \"cropped_model\" in path:\n",
    "            print(\"Loading model from file {}\".format(path))\n",
    "            cropped_model = keras.models.load_model(path)\n",
    "            break"
   ]
  },
  {
   "cell_type": "code",
   "execution_count": 25,
   "metadata": {},
   "outputs": [
    {
     "name": "stdout",
     "output_type": "stream",
     "text": [
      "18121\n"
     ]
    }
   ],
   "source": [
    "train_loss = int(history.history['loss'][-1])\n",
    "# acc = History.history['accuracy']\n",
    "print(train_loss)"
   ]
  },
  {
   "cell_type": "code",
   "execution_count": null,
   "metadata": {},
   "outputs": [],
   "source": []
  }
 ],
 "metadata": {
  "interpreter": {
   "hash": "a132e1c5f1b31d5e927d688f965514e030dfbafb3124753db69ec43e5ee86536"
  },
  "kernelspec": {
   "display_name": "Python 3",
   "language": "python",
   "name": "python3"
  },
  "language_info": {
   "codemirror_mode": {
    "name": "ipython",
    "version": 3
   },
   "file_extension": ".py",
   "mimetype": "text/x-python",
   "name": "python",
   "nbconvert_exporter": "python",
   "pygments_lexer": "ipython3",
   "version": "3.6.3"
  }
 },
 "nbformat": 4,
 "nbformat_minor": 2
}
