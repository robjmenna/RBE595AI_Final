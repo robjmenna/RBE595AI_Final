{
 "cells": [
  {
   "cell_type": "code",
   "execution_count": 13,
   "metadata": {},
   "outputs": [
    {
     "name": "stdout",
     "output_type": "stream",
     "text": [
      "Model: \"sequential_12\"\n",
      "_________________________________________________________________\n",
      " Layer (type)                Output Shape              Param #   \n",
      "=================================================================\n",
      " conv2d_111 (Conv2D)         (None, 600, 160, 64)      2944      \n",
      "                                                                 \n",
      " conv2d_112 (Conv2D)         (None, 600, 160, 64)      36928     \n",
      "                                                                 \n",
      " conv2d_113 (Conv2D)         (None, 300, 80, 64)       36928     \n",
      "                                                                 \n",
      " conv2d_114 (Conv2D)         (None, 300, 80, 64)       36928     \n",
      "                                                                 \n",
      " conv2d_115 (Conv2D)         (None, 150, 40, 64)       36928     \n",
      "                                                                 \n",
      " conv2d_116 (Conv2D)         (None, 150, 40, 64)       36928     \n",
      "                                                                 \n",
      " conv2d_117 (Conv2D)         (None, 75, 20, 64)        36928     \n",
      "                                                                 \n",
      " time_distributed_24 (TimeDi  (None, 75, 20, 64)       33024     \n",
      " stributed)                                                      \n",
      "                                                                 \n",
      " conv2d_118 (Conv2D)         (None, 75, 20, 64)        36928     \n",
      "                                                                 \n",
      " time_distributed_25 (TimeDi  (None, 75, 20, 64)       33024     \n",
      " stributed)                                                      \n",
      "                                                                 \n",
      " conv2d_119 (Conv2D)         (None, 75, 4, 64)         20544     \n",
      "                                                                 \n",
      " conv2d_120 (Conv2D)         (None, 75, 1, 1)          257       \n",
      "                                                                 \n",
      " flatten_12 (Flatten)        (None, 75)                0         \n",
      "                                                                 \n",
      " dense_12 (Dense)            (None, 600)               45600     \n",
      "                                                                 \n",
      "=================================================================\n",
      "Total params: 393,889\n",
      "Trainable params: 393,889\n",
      "Non-trainable params: 0\n",
      "_________________________________________________________________\n"
     ]
    }
   ],
   "source": [
    "import tensorflow as tf\n",
    "from tensorflow.keras.layers import Dense, Conv2D, Conv1D, LSTM, MaxPool2D, Flatten, InputLayer, Reshape, TimeDistributed\n",
    "from tensorflow.keras.models import Sequential\n",
    "\n",
    "def create_model():\n",
    "    model = Sequential([\n",
    "        InputLayer(input_shape=(600,160,5)),\n",
    "        Conv2D(64, (3,3), strides=(1,1), padding='same', activation='relu'),\n",
    "        Conv2D(64, (3,3), strides=(1,1), padding='same', activation='relu'),\n",
    "        Conv2D(64, (3,3), strides=(2,2), padding='same', activation='relu'),\n",
    "        Conv2D(64, (3,3), strides=(1,1), padding='same', activation='relu'),\n",
    "        # MaxPool2D(),\n",
    "        Conv2D(64, (3,3), strides=(2,2), padding='same', activation='relu'),\n",
    "        Conv2D(64, (3,3), strides=(1,1), padding='same', activation='relu'),\n",
    "        Conv2D(64, (3,3), strides=(2,2), padding='same', activation='relu'),\n",
    "        TimeDistributed(LSTM(64, return_sequences=True)),\n",
    "        Conv2D(64, (3,3), strides=(1,1), padding='same', activation='relu'),\n",
    "        TimeDistributed(LSTM(64, return_sequences=True)),\n",
    "        Conv2D(64, (1,5), strides=(1,4), activation='relu'),\n",
    "        Conv2D(1, (1,4), strides=(1,1), activation='relu'),\n",
    "        Flatten(),\n",
    "        Dense(600, activation='sigmoid')\n",
    "    ])\n",
    "\n",
    "    model.compile(optimizer='adam', loss='mean_squared_error', metrics=['accuracy'])\n",
    "    return model\n",
    "\n",
    "model = create_model()\n",
    "model.summary()"
   ]
  },
  {
   "cell_type": "code",
   "execution_count": null,
   "metadata": {},
   "outputs": [],
   "source": []
  }
 ],
 "metadata": {
  "interpreter": {
   "hash": "a132e1c5f1b31d5e927d688f965514e030dfbafb3124753db69ec43e5ee86536"
  },
  "kernelspec": {
   "display_name": "Python 3.9.7 ('tensorflow2')",
   "language": "python",
   "name": "python3"
  },
  "language_info": {
   "codemirror_mode": {
    "name": "ipython",
    "version": 3
   },
   "file_extension": ".py",
   "mimetype": "text/x-python",
   "name": "python",
   "nbconvert_exporter": "python",
   "pygments_lexer": "ipython3",
   "version": "3.9.7"
  },
  "orig_nbformat": 4
 },
 "nbformat": 4,
 "nbformat_minor": 2
}
