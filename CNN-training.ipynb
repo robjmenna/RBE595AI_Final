{
 "cells": [
  {
   "cell_type": "markdown",
   "metadata": {},
   "source": [
    "# Training Notebook\n",
    "---\n",
    "\n",
    "## Load the Data\n",
    "Use one of the cells below to either parse the data from the file structure or load the data from the saved numpy arrays"
   ]
  },
  {
   "cell_type": "code",
   "execution_count": 1,
   "metadata": {},
   "outputs": [],
   "source": [
    "import utils\n",
    "import numpy as np\n",
    "\n",
    "image_files, labels = utils.getprocessedfilelist()\n",
    "np.save(os.path.join('data_road', 'images.npy'), image_files)\n",
    "np.save(os.path.join('data_road', 'labels.npy'), labels)"
   ]
  },
  {
   "cell_type": "code",
   "execution_count": 1,
   "metadata": {},
   "outputs": [],
   "source": [
    "import numpy as np\n",
    "\n",
    "# use this cell to load the numpy data from disk so that you\n",
    "# don't always have to parse the file structure\n",
    "image_files = np.load(os.path.join('data_road', 'images.npy'))\n",
    "labels = np.load(os.path.join('data_road', 'labels.npy'))"
   ]
  },
  {
   "cell_type": "markdown",
   "metadata": {},
   "source": [
    "## Create the Input Pipeline\n",
    "---\n",
    "Create an input pipeline from the loaded arrays. Split the pipeline into train and val datasets."
   ]
  },
  {
   "cell_type": "code",
   "execution_count": 2,
   "metadata": {},
   "outputs": [
    {
     "name": "stdout",
     "output_type": "stream",
     "text": [
      "(array([[[0.16470589, 0.26666668, 0.16078432],\n",
      "        [0.16470589, 0.2509804 , 0.16078432],\n",
      "        [0.18431373, 0.22745098, 0.16078432],\n",
      "        ...,\n",
      "        [0.16078432, 0.23921569, 0.27450982],\n",
      "        [0.14901961, 0.22745098, 0.25490198],\n",
      "        [0.14509805, 0.22352941, 0.2509804 ]],\n",
      "\n",
      "       [[0.15294118, 0.23137255, 0.13333334],\n",
      "        [0.16470589, 0.23529412, 0.14901961],\n",
      "        [0.19215687, 0.22745098, 0.16078432],\n",
      "        ...,\n",
      "        [0.14117648, 0.21960784, 0.25490198],\n",
      "        [0.12941177, 0.20784314, 0.24313726],\n",
      "        [0.12941177, 0.20784314, 0.23529412]],\n",
      "\n",
      "       [[0.09803922, 0.13333334, 0.05882353],\n",
      "        [0.1254902 , 0.15294118, 0.08235294],\n",
      "        [0.16078432, 0.1764706 , 0.11764706],\n",
      "        ...,\n",
      "        [0.12156863, 0.19215687, 0.23921569],\n",
      "        [0.12941177, 0.2       , 0.24705882],\n",
      "        [0.14901961, 0.21960784, 0.25882354]],\n",
      "\n",
      "       ...,\n",
      "\n",
      "       [[0.23529412, 0.3254902 , 0.16078432],\n",
      "        [0.23921569, 0.3372549 , 0.17254902],\n",
      "        [0.25882354, 0.35686275, 0.19215687],\n",
      "        ...,\n",
      "        [0.39607844, 0.39215687, 0.4117647 ],\n",
      "        [0.40392157, 0.4       , 0.41960785],\n",
      "        [0.40784314, 0.40392157, 0.42352942]],\n",
      "\n",
      "       [[0.25490198, 0.3882353 , 0.1882353 ],\n",
      "        [0.2627451 , 0.3882353 , 0.19607843],\n",
      "        [0.2627451 , 0.36862746, 0.19215687],\n",
      "        ...,\n",
      "        [0.40392157, 0.40784314, 0.42745098],\n",
      "        [0.4       , 0.40392157, 0.42352942],\n",
      "        [0.39215687, 0.39607844, 0.41568628]],\n",
      "\n",
      "       [[0.27450982, 0.42745098, 0.21176471],\n",
      "        [0.27450982, 0.40784314, 0.20784314],\n",
      "        [0.27450982, 0.38431373, 0.19607843],\n",
      "        ...,\n",
      "        [0.40392157, 0.41568628, 0.44313726],\n",
      "        [0.40392157, 0.40784314, 0.42745098],\n",
      "        [0.4       , 0.40392157, 0.42352942]]], dtype=float32), array([160., 160., 160., 160., 160., 160., 160., 160., 160., 160., 160.,\n",
      "       160., 160., 160., 160., 160., 160., 160., 160., 160., 160., 160.,\n",
      "       160., 160., 160., 160., 160., 160., 160., 160., 160., 160., 160.,\n",
      "       160., 160., 160., 160., 160., 160., 160., 160., 160., 160., 160.,\n",
      "       160., 160., 160., 160., 160., 160., 160., 160., 160., 160., 160.,\n",
      "       160., 160., 160., 160., 160., 160., 160., 160., 160., 160., 160.,\n",
      "       160., 160., 160., 160., 160., 160., 160., 160., 160., 160., 160.,\n",
      "       160., 160., 160., 160., 160., 160., 160., 160., 160., 160., 160.,\n",
      "       160., 160., 160., 160., 160., 160., 160., 160., 160., 160., 160.,\n",
      "       160., 160., 160., 160., 160., 160., 160., 160., 160., 160., 160.,\n",
      "       160., 160., 160., 160., 160., 160., 160., 160., 160., 160., 160.,\n",
      "       160., 160., 160., 160., 160., 160., 160., 160., 160., 160., 160.,\n",
      "       160., 160., 160., 160., 160., 160., 160., 160., 160., 160., 160.,\n",
      "       160., 160., 160., 160., 160., 160., 160., 160., 160., 160., 160.,\n",
      "       160., 160., 160., 160., 160., 160., 160., 160., 160., 160., 160.,\n",
      "       160., 160., 160., 160., 160., 160., 160., 160., 160., 160., 160.,\n",
      "       160., 160., 160., 160., 160., 160., 160., 160., 160., 160., 160.,\n",
      "       160., 160., 160., 160., 160., 160., 160., 160., 160., 160., 160.,\n",
      "       160., 160., 160., 160., 160., 160., 160., 160., 160., 160., 160.,\n",
      "       160., 160., 160., 160., 160., 160., 160., 159., 159., 159., 158.,\n",
      "       158., 158., 157., 157., 157., 157., 156., 156., 156., 155., 155.,\n",
      "       155., 154., 154., 154., 153., 153., 153., 152., 152., 152., 152.,\n",
      "       151., 151., 151., 150., 150., 150., 149., 149., 149., 148., 148.,\n",
      "       148., 147., 147., 147., 147., 146., 146., 146., 145., 145., 145.,\n",
      "       144., 144., 144., 144., 143., 143., 143., 142., 142., 142., 141.,\n",
      "       141., 141., 141., 140., 140., 140., 139., 139., 139., 138., 138.,\n",
      "       138., 138., 137., 137., 137., 136., 136., 136., 135., 135., 135.,\n",
      "       135., 134., 134., 134., 133., 133., 133., 132., 132., 132., 132.,\n",
      "       131., 131., 131., 130., 130., 130., 129., 129., 129., 129., 128.,\n",
      "       128., 128., 127., 127., 127., 126., 126., 126., 126., 125., 125.,\n",
      "       125., 124., 124., 124., 123., 123., 123., 122., 122., 122., 122.,\n",
      "       121., 121., 121., 120., 120., 120., 119., 119., 119., 119., 118.,\n",
      "       118., 118., 117., 117., 117., 116., 116., 116., 116., 115., 115.,\n",
      "       115., 114., 114., 114., 113., 113., 113., 113., 112., 112., 112.,\n",
      "       111., 111., 111., 110., 110., 110., 110., 109., 109., 109., 108.,\n",
      "       108., 108., 107., 107., 107., 107., 106., 106., 106., 105., 105.,\n",
      "       105., 104., 104., 104., 104., 103., 103., 103., 102., 102., 102.,\n",
      "       101., 101., 101., 101., 100., 100., 100.,  99.,  99.,  99.,  98.,\n",
      "        98.,  98.,  98.,  97.,  97.,  97.,  97.,  96.,  96.,  96.,  95.,\n",
      "        95.,  95.,  95.,  94.,  94.,  94.,  93.,  93.,  93.,  93.,  92.,\n",
      "        92.,  92.,  92.,  91.,  91.,  91.,  90.,  90.,  90.,  90.,  89.,\n",
      "        89.,  89.,  89.,  88.,  88.,  88.,  87.,  87.,  87.,  87.,  86.,\n",
      "        86.,  86.,  86.,  85.,  85.,  85.,  84.,  84.,  84.,  84.,  83.,\n",
      "        83.,  83.,  82.,  82.,  82.,  82.,  81.,  81.,  81.,  81.,  80.,\n",
      "        80.,  80.,  79.,  79.,  79.,  78.,  78.,  77.,  77.,  77.,  76.,\n",
      "        76.,  76.,  75.,  75.,  75.,  74.,  74.,  73.,  73.,  73.,  72.,\n",
      "        72.,  72.,  71.,  71.,  71.,  70.,  70.,  69.,  69.,  69.,  68.,\n",
      "        68.,  68.,  67.,  67.,  67.,  66.,  66.,  65.,  65.,  65.,  64.,\n",
      "        64.,  64.,  63.,  63.,  63.,  62.,  62.,  61.,  61.,  61.,  60.,\n",
      "        60.,  60.,  59.,  59.,  59.,  58.,  58.,  57.,  57.,  57.,  56.,\n",
      "        56.,  56.,  55.,  55.,  55.,  54.,  54.,  54.,  53.,  53.,  53.,\n",
      "        52.,  52.,  52.,  51.,  51.,  51.,  50.,  50.,  49.,  49.,  49.,\n",
      "        48.,  48.,  48.,  47.,  47.,  47.,  46.,  46.,  46.,  45.,  45.,\n",
      "        45.,  45.,  45.,  45.,  45.,  45.,  45.,  45.,  45.,  45.,  45.,\n",
      "        45.,  45.,  44.,  44.,  44.,  44.]))\n"
     ]
    }
   ],
   "source": [
    "import tensorflow as tf\n",
    "\n",
    "data = tf.data.Dataset.from_tensor_slices((image_files, labels))\n",
    "\n",
    "@tf.function\n",
    "def readimage(image_file, label):\n",
    "    image = tf.io.decode_jpeg(tf.io.read_file(image_file)) / 255\n",
    "    label = (label / 80) - 1\n",
    "    return image, label\n",
    "\n",
    "batch_size = 32\n",
    "shuffle_buffer_size = len(labels)\n",
    "train_ds_size = 20000\n",
    "val_ds_size = 5000\n",
    "\n",
    "shuffled_ds = data.shuffle(shuffle_buffer_size).map(readimage, num_parallel_calls=tf.data.AUTOTUNE)\n",
    "train_ds = shuffled_ds.take(train_ds_size).batch(batch_size)\n",
    "val_ds = shuffled_ds.skip(train_ds_size).take(val_ds_size).batch(batch_size)\n",
    "\n",
    "iter_ = shuffled_ds.as_numpy_iterator()\n",
    "a = iter_.next()\n",
    "print(a)"
   ]
  },
  {
   "cell_type": "markdown",
   "metadata": {},
   "source": [
    "## Create the Model\n",
    "---\n",
    "\n",
    "Create the model and add callbacks for writing checkpoints and logs"
   ]
  },
  {
   "cell_type": "code",
   "execution_count": 3,
   "metadata": {},
   "outputs": [],
   "source": [
    "from tensorflow.keras.models import Sequential\n",
    "from tensorflow.keras.layers import Dense, Conv2D, LSTM, MaxPool2D, Flatten, InputLayer, TimeDistributed\n",
    "import tensorflow as tf\n",
    "import os\n",
    "\n",
    "def create_model():\n",
    "    model = Sequential([\n",
    "        InputLayer(input_shape=(160,600,3)),\n",
    "        Conv2D(64, (3,3), padding='same', activation='relu'),\n",
    "        Conv2D(64, (3,3), padding='same', activation='relu'),\n",
    "        MaxPool2D(),\n",
    "        Conv2D(64, (3,3), padding='same', activation='relu'),\n",
    "        Conv2D(64, (3,3), padding='same', activation='relu'),\n",
    "        MaxPool2D(),\n",
    "        Conv2D(64, (3,3), padding='same', activation='relu'),\n",
    "        Conv2D(64, (3,3), padding='same', activation='relu'),\n",
    "        MaxPool2D(),\n",
    "        Conv2D(64, (3,3), padding='same', activation='relu'),\n",
    "        Conv2D(64, (3,3), padding='same', activation='relu'),\n",
    "        Conv2D(64, (5,1), strides=(4,1), activation='relu'),\n",
    "        Conv2D(1, (4,1), activation='relu'),\n",
    "        Flatten(),\n",
    "        Dense(600, activation='tanh')\n",
    "    ])\n",
    "\n",
    "    model.compile(optimizer='adam', loss='mean_squared_error', metrics=['accuracy'])\n",
    "    return model\n",
    "\n",
    "model = create_model()\n"
   ]
  },
  {
   "cell_type": "markdown",
   "metadata": {},
   "source": [
    "## Train!"
   ]
  },
  {
   "cell_type": "code",
   "execution_count": 4,
   "metadata": {},
   "outputs": [
    {
     "name": "stdout",
     "output_type": "stream",
     "text": [
      "Epoch 1/80\n",
      "290/625 [============>.................] - ETA: 1:10 - loss: 2866.3938 - accuracy: 0.0040"
     ]
    },
    {
     "ename": "KeyboardInterrupt",
     "evalue": "",
     "output_type": "error",
     "traceback": [
      "\u001b[1;31m---------------------------------------------------------------------------\u001b[0m",
      "\u001b[1;31mKeyboardInterrupt\u001b[0m                         Traceback (most recent call last)",
      "\u001b[1;32mf:\\projects\\RBE595AI_Final\\train.ipynb Cell 9'\u001b[0m in \u001b[0;36m<cell line: 11>\u001b[1;34m()\u001b[0m\n\u001b[0;32m      <a href='vscode-notebook-cell://ssh-remote%2Brobtop.local/f%3A/projects/RBE595AI_Final/train.ipynb#ch0000008vscode-remote?line=2'>3</a>\u001b[0m callbacks \u001b[39m=\u001b[39m [\n\u001b[0;32m      <a href='vscode-notebook-cell://ssh-remote%2Brobtop.local/f%3A/projects/RBE595AI_Final/train.ipynb#ch0000008vscode-remote?line=3'>4</a>\u001b[0m     tf\u001b[39m.\u001b[39mkeras\u001b[39m.\u001b[39mcallbacks\u001b[39m.\u001b[39mTensorBoard(),\n\u001b[0;32m      <a href='vscode-notebook-cell://ssh-remote%2Brobtop.local/f%3A/projects/RBE595AI_Final/train.ipynb#ch0000008vscode-remote?line=4'>5</a>\u001b[0m     tf\u001b[39m.\u001b[39mkeras\u001b[39m.\u001b[39mcallbacks\u001b[39m.\u001b[39mModelCheckpoint(\n\u001b[0;32m      <a href='vscode-notebook-cell://ssh-remote%2Brobtop.local/f%3A/projects/RBE595AI_Final/train.ipynb#ch0000008vscode-remote?line=5'>6</a>\u001b[0m         os\u001b[39m.\u001b[39mpath\u001b[39m.\u001b[39mjoin(\u001b[39m'\u001b[39m\u001b[39mckpt\u001b[39m\u001b[39m'\u001b[39m,\u001b[39m'\u001b[39m\u001b[39mtraining-3-cnn\u001b[39m\u001b[39m'\u001b[39m), \n\u001b[0;32m      <a href='vscode-notebook-cell://ssh-remote%2Brobtop.local/f%3A/projects/RBE595AI_Final/train.ipynb#ch0000008vscode-remote?line=6'>7</a>\u001b[0m         save_weights_only\u001b[39m=\u001b[39m\u001b[39mTrue\u001b[39;00m)\n\u001b[0;32m      <a href='vscode-notebook-cell://ssh-remote%2Brobtop.local/f%3A/projects/RBE595AI_Final/train.ipynb#ch0000008vscode-remote?line=7'>8</a>\u001b[0m ]\n\u001b[0;32m     <a href='vscode-notebook-cell://ssh-remote%2Brobtop.local/f%3A/projects/RBE595AI_Final/train.ipynb#ch0000008vscode-remote?line=9'>10</a>\u001b[0m \u001b[39m# model.load_weights(os.path.join('ckpt', 'training-1'))\u001b[39;00m\n\u001b[1;32m---> <a href='vscode-notebook-cell://ssh-remote%2Brobtop.local/f%3A/projects/RBE595AI_Final/train.ipynb#ch0000008vscode-remote?line=10'>11</a>\u001b[0m model\u001b[39m.\u001b[39;49mfit(x\u001b[39m=\u001b[39;49mtrain_ds, batch_size\u001b[39m=\u001b[39;49mbatch_size, epochs\u001b[39m=\u001b[39;49m\u001b[39m80\u001b[39;49m, callbacks\u001b[39m=\u001b[39;49mcallbacks, validation_data\u001b[39m=\u001b[39;49mval_ds, verbose\u001b[39m=\u001b[39;49m\u001b[39m1\u001b[39;49m)\n",
      "File \u001b[1;32mF:\\envs\\tf2\\lib\\site-packages\\keras\\utils\\traceback_utils.py:64\u001b[0m, in \u001b[0;36mfilter_traceback.<locals>.error_handler\u001b[1;34m(*args, **kwargs)\u001b[0m\n\u001b[0;32m     <a href='file:///f%3A/envs/tf2/lib/site-packages/keras/utils/traceback_utils.py?line=61'>62</a>\u001b[0m filtered_tb \u001b[39m=\u001b[39m \u001b[39mNone\u001b[39;00m\n\u001b[0;32m     <a href='file:///f%3A/envs/tf2/lib/site-packages/keras/utils/traceback_utils.py?line=62'>63</a>\u001b[0m \u001b[39mtry\u001b[39;00m:\n\u001b[1;32m---> <a href='file:///f%3A/envs/tf2/lib/site-packages/keras/utils/traceback_utils.py?line=63'>64</a>\u001b[0m   \u001b[39mreturn\u001b[39;00m fn(\u001b[39m*\u001b[39;49margs, \u001b[39m*\u001b[39;49m\u001b[39m*\u001b[39;49mkwargs)\n\u001b[0;32m     <a href='file:///f%3A/envs/tf2/lib/site-packages/keras/utils/traceback_utils.py?line=64'>65</a>\u001b[0m \u001b[39mexcept\u001b[39;00m \u001b[39mException\u001b[39;00m \u001b[39mas\u001b[39;00m e:  \u001b[39m# pylint: disable=broad-except\u001b[39;00m\n\u001b[0;32m     <a href='file:///f%3A/envs/tf2/lib/site-packages/keras/utils/traceback_utils.py?line=65'>66</a>\u001b[0m   filtered_tb \u001b[39m=\u001b[39m _process_traceback_frames(e\u001b[39m.\u001b[39m__traceback__)\n",
      "File \u001b[1;32mF:\\envs\\tf2\\lib\\site-packages\\keras\\engine\\training.py:1389\u001b[0m, in \u001b[0;36mModel.fit\u001b[1;34m(self, x, y, batch_size, epochs, verbose, callbacks, validation_split, validation_data, shuffle, class_weight, sample_weight, initial_epoch, steps_per_epoch, validation_steps, validation_batch_size, validation_freq, max_queue_size, workers, use_multiprocessing)\u001b[0m\n\u001b[0;32m   <a href='file:///f%3A/envs/tf2/lib/site-packages/keras/engine/training.py?line=1386'>1387</a>\u001b[0m logs \u001b[39m=\u001b[39m tmp_logs  \u001b[39m# No error, now safe to assign to logs.\u001b[39;00m\n\u001b[0;32m   <a href='file:///f%3A/envs/tf2/lib/site-packages/keras/engine/training.py?line=1387'>1388</a>\u001b[0m end_step \u001b[39m=\u001b[39m step \u001b[39m+\u001b[39m data_handler\u001b[39m.\u001b[39mstep_increment\n\u001b[1;32m-> <a href='file:///f%3A/envs/tf2/lib/site-packages/keras/engine/training.py?line=1388'>1389</a>\u001b[0m callbacks\u001b[39m.\u001b[39;49mon_train_batch_end(end_step, logs)\n\u001b[0;32m   <a href='file:///f%3A/envs/tf2/lib/site-packages/keras/engine/training.py?line=1389'>1390</a>\u001b[0m \u001b[39mif\u001b[39;00m \u001b[39mself\u001b[39m\u001b[39m.\u001b[39mstop_training:\n\u001b[0;32m   <a href='file:///f%3A/envs/tf2/lib/site-packages/keras/engine/training.py?line=1390'>1391</a>\u001b[0m   \u001b[39mbreak\u001b[39;00m\n",
      "File \u001b[1;32mF:\\envs\\tf2\\lib\\site-packages\\keras\\callbacks.py:438\u001b[0m, in \u001b[0;36mCallbackList.on_train_batch_end\u001b[1;34m(self, batch, logs)\u001b[0m\n\u001b[0;32m    <a href='file:///f%3A/envs/tf2/lib/site-packages/keras/callbacks.py?line=430'>431</a>\u001b[0m \u001b[39m\"\"\"Calls the `on_train_batch_end` methods of its callbacks.\u001b[39;00m\n\u001b[0;32m    <a href='file:///f%3A/envs/tf2/lib/site-packages/keras/callbacks.py?line=431'>432</a>\u001b[0m \n\u001b[0;32m    <a href='file:///f%3A/envs/tf2/lib/site-packages/keras/callbacks.py?line=432'>433</a>\u001b[0m \u001b[39mArgs:\u001b[39;00m\n\u001b[0;32m    <a href='file:///f%3A/envs/tf2/lib/site-packages/keras/callbacks.py?line=433'>434</a>\u001b[0m \u001b[39m    batch: Integer, index of batch within the current epoch.\u001b[39;00m\n\u001b[0;32m    <a href='file:///f%3A/envs/tf2/lib/site-packages/keras/callbacks.py?line=434'>435</a>\u001b[0m \u001b[39m    logs: Dict. Aggregated metric results up until this batch.\u001b[39;00m\n\u001b[0;32m    <a href='file:///f%3A/envs/tf2/lib/site-packages/keras/callbacks.py?line=435'>436</a>\u001b[0m \u001b[39m\"\"\"\u001b[39;00m\n\u001b[0;32m    <a href='file:///f%3A/envs/tf2/lib/site-packages/keras/callbacks.py?line=436'>437</a>\u001b[0m \u001b[39mif\u001b[39;00m \u001b[39mself\u001b[39m\u001b[39m.\u001b[39m_should_call_train_batch_hooks:\n\u001b[1;32m--> <a href='file:///f%3A/envs/tf2/lib/site-packages/keras/callbacks.py?line=437'>438</a>\u001b[0m   \u001b[39mself\u001b[39;49m\u001b[39m.\u001b[39;49m_call_batch_hook(ModeKeys\u001b[39m.\u001b[39;49mTRAIN, \u001b[39m'\u001b[39;49m\u001b[39mend\u001b[39;49m\u001b[39m'\u001b[39;49m, batch, logs\u001b[39m=\u001b[39;49mlogs)\n",
      "File \u001b[1;32mF:\\envs\\tf2\\lib\\site-packages\\keras\\callbacks.py:297\u001b[0m, in \u001b[0;36mCallbackList._call_batch_hook\u001b[1;34m(self, mode, hook, batch, logs)\u001b[0m\n\u001b[0;32m    <a href='file:///f%3A/envs/tf2/lib/site-packages/keras/callbacks.py?line=294'>295</a>\u001b[0m   \u001b[39mself\u001b[39m\u001b[39m.\u001b[39m_call_batch_begin_hook(mode, batch, logs)\n\u001b[0;32m    <a href='file:///f%3A/envs/tf2/lib/site-packages/keras/callbacks.py?line=295'>296</a>\u001b[0m \u001b[39melif\u001b[39;00m hook \u001b[39m==\u001b[39m \u001b[39m'\u001b[39m\u001b[39mend\u001b[39m\u001b[39m'\u001b[39m:\n\u001b[1;32m--> <a href='file:///f%3A/envs/tf2/lib/site-packages/keras/callbacks.py?line=296'>297</a>\u001b[0m   \u001b[39mself\u001b[39;49m\u001b[39m.\u001b[39;49m_call_batch_end_hook(mode, batch, logs)\n\u001b[0;32m    <a href='file:///f%3A/envs/tf2/lib/site-packages/keras/callbacks.py?line=297'>298</a>\u001b[0m \u001b[39melse\u001b[39;00m:\n\u001b[0;32m    <a href='file:///f%3A/envs/tf2/lib/site-packages/keras/callbacks.py?line=298'>299</a>\u001b[0m   \u001b[39mraise\u001b[39;00m \u001b[39mValueError\u001b[39;00m(\n\u001b[0;32m    <a href='file:///f%3A/envs/tf2/lib/site-packages/keras/callbacks.py?line=299'>300</a>\u001b[0m       \u001b[39mf\u001b[39m\u001b[39m'\u001b[39m\u001b[39mUnrecognized hook: \u001b[39m\u001b[39m{\u001b[39;00mhook\u001b[39m}\u001b[39;00m\u001b[39m. Expected values are [\u001b[39m\u001b[39m\"\u001b[39m\u001b[39mbegin\u001b[39m\u001b[39m\"\u001b[39m\u001b[39m, \u001b[39m\u001b[39m\"\u001b[39m\u001b[39mend\u001b[39m\u001b[39m\"\u001b[39m\u001b[39m]\u001b[39m\u001b[39m'\u001b[39m)\n",
      "File \u001b[1;32mF:\\envs\\tf2\\lib\\site-packages\\keras\\callbacks.py:318\u001b[0m, in \u001b[0;36mCallbackList._call_batch_end_hook\u001b[1;34m(self, mode, batch, logs)\u001b[0m\n\u001b[0;32m    <a href='file:///f%3A/envs/tf2/lib/site-packages/keras/callbacks.py?line=314'>315</a>\u001b[0m   batch_time \u001b[39m=\u001b[39m time\u001b[39m.\u001b[39mtime() \u001b[39m-\u001b[39m \u001b[39mself\u001b[39m\u001b[39m.\u001b[39m_batch_start_time\n\u001b[0;32m    <a href='file:///f%3A/envs/tf2/lib/site-packages/keras/callbacks.py?line=315'>316</a>\u001b[0m   \u001b[39mself\u001b[39m\u001b[39m.\u001b[39m_batch_times\u001b[39m.\u001b[39mappend(batch_time)\n\u001b[1;32m--> <a href='file:///f%3A/envs/tf2/lib/site-packages/keras/callbacks.py?line=317'>318</a>\u001b[0m \u001b[39mself\u001b[39;49m\u001b[39m.\u001b[39;49m_call_batch_hook_helper(hook_name, batch, logs)\n\u001b[0;32m    <a href='file:///f%3A/envs/tf2/lib/site-packages/keras/callbacks.py?line=319'>320</a>\u001b[0m \u001b[39mif\u001b[39;00m \u001b[39mlen\u001b[39m(\u001b[39mself\u001b[39m\u001b[39m.\u001b[39m_batch_times) \u001b[39m>\u001b[39m\u001b[39m=\u001b[39m \u001b[39mself\u001b[39m\u001b[39m.\u001b[39m_num_batches_for_timing_check:\n\u001b[0;32m    <a href='file:///f%3A/envs/tf2/lib/site-packages/keras/callbacks.py?line=320'>321</a>\u001b[0m   end_hook_name \u001b[39m=\u001b[39m hook_name\n",
      "File \u001b[1;32mF:\\envs\\tf2\\lib\\site-packages\\keras\\callbacks.py:356\u001b[0m, in \u001b[0;36mCallbackList._call_batch_hook_helper\u001b[1;34m(self, hook_name, batch, logs)\u001b[0m\n\u001b[0;32m    <a href='file:///f%3A/envs/tf2/lib/site-packages/keras/callbacks.py?line=353'>354</a>\u001b[0m \u001b[39mfor\u001b[39;00m callback \u001b[39min\u001b[39;00m \u001b[39mself\u001b[39m\u001b[39m.\u001b[39mcallbacks:\n\u001b[0;32m    <a href='file:///f%3A/envs/tf2/lib/site-packages/keras/callbacks.py?line=354'>355</a>\u001b[0m   hook \u001b[39m=\u001b[39m \u001b[39mgetattr\u001b[39m(callback, hook_name)\n\u001b[1;32m--> <a href='file:///f%3A/envs/tf2/lib/site-packages/keras/callbacks.py?line=355'>356</a>\u001b[0m   hook(batch, logs)\n\u001b[0;32m    <a href='file:///f%3A/envs/tf2/lib/site-packages/keras/callbacks.py?line=357'>358</a>\u001b[0m \u001b[39mif\u001b[39;00m \u001b[39mself\u001b[39m\u001b[39m.\u001b[39m_check_timing:\n\u001b[0;32m    <a href='file:///f%3A/envs/tf2/lib/site-packages/keras/callbacks.py?line=358'>359</a>\u001b[0m   \u001b[39mif\u001b[39;00m hook_name \u001b[39mnot\u001b[39;00m \u001b[39min\u001b[39;00m \u001b[39mself\u001b[39m\u001b[39m.\u001b[39m_hook_times:\n",
      "File \u001b[1;32mF:\\envs\\tf2\\lib\\site-packages\\keras\\callbacks.py:1034\u001b[0m, in \u001b[0;36mProgbarLogger.on_train_batch_end\u001b[1;34m(self, batch, logs)\u001b[0m\n\u001b[0;32m   <a href='file:///f%3A/envs/tf2/lib/site-packages/keras/callbacks.py?line=1032'>1033</a>\u001b[0m \u001b[39mdef\u001b[39;00m \u001b[39mon_train_batch_end\u001b[39m(\u001b[39mself\u001b[39m, batch, logs\u001b[39m=\u001b[39m\u001b[39mNone\u001b[39;00m):\n\u001b[1;32m-> <a href='file:///f%3A/envs/tf2/lib/site-packages/keras/callbacks.py?line=1033'>1034</a>\u001b[0m   \u001b[39mself\u001b[39;49m\u001b[39m.\u001b[39;49m_batch_update_progbar(batch, logs)\n",
      "File \u001b[1;32mF:\\envs\\tf2\\lib\\site-packages\\keras\\callbacks.py:1106\u001b[0m, in \u001b[0;36mProgbarLogger._batch_update_progbar\u001b[1;34m(self, batch, logs)\u001b[0m\n\u001b[0;32m   <a href='file:///f%3A/envs/tf2/lib/site-packages/keras/callbacks.py?line=1101'>1102</a>\u001b[0m   \u001b[39mself\u001b[39m\u001b[39m.\u001b[39mseen \u001b[39m+\u001b[39m\u001b[39m=\u001b[39m add_seen\n\u001b[0;32m   <a href='file:///f%3A/envs/tf2/lib/site-packages/keras/callbacks.py?line=1103'>1104</a>\u001b[0m \u001b[39mif\u001b[39;00m \u001b[39mself\u001b[39m\u001b[39m.\u001b[39mverbose \u001b[39m==\u001b[39m \u001b[39m1\u001b[39m:\n\u001b[0;32m   <a href='file:///f%3A/envs/tf2/lib/site-packages/keras/callbacks.py?line=1104'>1105</a>\u001b[0m   \u001b[39m# Only block async when verbose = 1.\u001b[39;00m\n\u001b[1;32m-> <a href='file:///f%3A/envs/tf2/lib/site-packages/keras/callbacks.py?line=1105'>1106</a>\u001b[0m   logs \u001b[39m=\u001b[39m tf_utils\u001b[39m.\u001b[39;49msync_to_numpy_or_python_type(logs)\n\u001b[0;32m   <a href='file:///f%3A/envs/tf2/lib/site-packages/keras/callbacks.py?line=1106'>1107</a>\u001b[0m   \u001b[39mself\u001b[39m\u001b[39m.\u001b[39mprogbar\u001b[39m.\u001b[39mupdate(\u001b[39mself\u001b[39m\u001b[39m.\u001b[39mseen, \u001b[39mlist\u001b[39m(logs\u001b[39m.\u001b[39mitems()), finalize\u001b[39m=\u001b[39m\u001b[39mFalse\u001b[39;00m)\n",
      "File \u001b[1;32mF:\\envs\\tf2\\lib\\site-packages\\keras\\utils\\tf_utils.py:563\u001b[0m, in \u001b[0;36msync_to_numpy_or_python_type\u001b[1;34m(tensors)\u001b[0m\n\u001b[0;32m    <a href='file:///f%3A/envs/tf2/lib/site-packages/keras/utils/tf_utils.py?line=559'>560</a>\u001b[0m     \u001b[39mreturn\u001b[39;00m t\n\u001b[0;32m    <a href='file:///f%3A/envs/tf2/lib/site-packages/keras/utils/tf_utils.py?line=560'>561</a>\u001b[0m   \u001b[39mreturn\u001b[39;00m t\u001b[39m.\u001b[39mitem() \u001b[39mif\u001b[39;00m np\u001b[39m.\u001b[39mndim(t) \u001b[39m==\u001b[39m \u001b[39m0\u001b[39m \u001b[39melse\u001b[39;00m t\n\u001b[1;32m--> <a href='file:///f%3A/envs/tf2/lib/site-packages/keras/utils/tf_utils.py?line=562'>563</a>\u001b[0m \u001b[39mreturn\u001b[39;00m tf\u001b[39m.\u001b[39;49mnest\u001b[39m.\u001b[39;49mmap_structure(_to_single_numpy_or_python_type, tensors)\n",
      "File \u001b[1;32mF:\\envs\\tf2\\lib\\site-packages\\tensorflow\\python\\util\\nest.py:914\u001b[0m, in \u001b[0;36mmap_structure\u001b[1;34m(func, *structure, **kwargs)\u001b[0m\n\u001b[0;32m    <a href='file:///f%3A/envs/tf2/lib/site-packages/tensorflow/python/util/nest.py?line=909'>910</a>\u001b[0m flat_structure \u001b[39m=\u001b[39m (flatten(s, expand_composites) \u001b[39mfor\u001b[39;00m s \u001b[39min\u001b[39;00m structure)\n\u001b[0;32m    <a href='file:///f%3A/envs/tf2/lib/site-packages/tensorflow/python/util/nest.py?line=910'>911</a>\u001b[0m entries \u001b[39m=\u001b[39m \u001b[39mzip\u001b[39m(\u001b[39m*\u001b[39mflat_structure)\n\u001b[0;32m    <a href='file:///f%3A/envs/tf2/lib/site-packages/tensorflow/python/util/nest.py?line=912'>913</a>\u001b[0m \u001b[39mreturn\u001b[39;00m pack_sequence_as(\n\u001b[1;32m--> <a href='file:///f%3A/envs/tf2/lib/site-packages/tensorflow/python/util/nest.py?line=913'>914</a>\u001b[0m     structure[\u001b[39m0\u001b[39m], [func(\u001b[39m*\u001b[39mx) \u001b[39mfor\u001b[39;00m x \u001b[39min\u001b[39;00m entries],\n\u001b[0;32m    <a href='file:///f%3A/envs/tf2/lib/site-packages/tensorflow/python/util/nest.py?line=914'>915</a>\u001b[0m     expand_composites\u001b[39m=\u001b[39mexpand_composites)\n",
      "File \u001b[1;32mF:\\envs\\tf2\\lib\\site-packages\\tensorflow\\python\\util\\nest.py:914\u001b[0m, in \u001b[0;36m<listcomp>\u001b[1;34m(.0)\u001b[0m\n\u001b[0;32m    <a href='file:///f%3A/envs/tf2/lib/site-packages/tensorflow/python/util/nest.py?line=909'>910</a>\u001b[0m flat_structure \u001b[39m=\u001b[39m (flatten(s, expand_composites) \u001b[39mfor\u001b[39;00m s \u001b[39min\u001b[39;00m structure)\n\u001b[0;32m    <a href='file:///f%3A/envs/tf2/lib/site-packages/tensorflow/python/util/nest.py?line=910'>911</a>\u001b[0m entries \u001b[39m=\u001b[39m \u001b[39mzip\u001b[39m(\u001b[39m*\u001b[39mflat_structure)\n\u001b[0;32m    <a href='file:///f%3A/envs/tf2/lib/site-packages/tensorflow/python/util/nest.py?line=912'>913</a>\u001b[0m \u001b[39mreturn\u001b[39;00m pack_sequence_as(\n\u001b[1;32m--> <a href='file:///f%3A/envs/tf2/lib/site-packages/tensorflow/python/util/nest.py?line=913'>914</a>\u001b[0m     structure[\u001b[39m0\u001b[39m], [func(\u001b[39m*\u001b[39;49mx) \u001b[39mfor\u001b[39;00m x \u001b[39min\u001b[39;00m entries],\n\u001b[0;32m    <a href='file:///f%3A/envs/tf2/lib/site-packages/tensorflow/python/util/nest.py?line=914'>915</a>\u001b[0m     expand_composites\u001b[39m=\u001b[39mexpand_composites)\n",
      "File \u001b[1;32mF:\\envs\\tf2\\lib\\site-packages\\keras\\utils\\tf_utils.py:557\u001b[0m, in \u001b[0;36msync_to_numpy_or_python_type.<locals>._to_single_numpy_or_python_type\u001b[1;34m(t)\u001b[0m\n\u001b[0;32m    <a href='file:///f%3A/envs/tf2/lib/site-packages/keras/utils/tf_utils.py?line=553'>554</a>\u001b[0m \u001b[39mdef\u001b[39;00m \u001b[39m_to_single_numpy_or_python_type\u001b[39m(t):\n\u001b[0;32m    <a href='file:///f%3A/envs/tf2/lib/site-packages/keras/utils/tf_utils.py?line=554'>555</a>\u001b[0m   \u001b[39m# Don't turn ragged or sparse tensors to NumPy.\u001b[39;00m\n\u001b[0;32m    <a href='file:///f%3A/envs/tf2/lib/site-packages/keras/utils/tf_utils.py?line=555'>556</a>\u001b[0m   \u001b[39mif\u001b[39;00m \u001b[39misinstance\u001b[39m(t, tf\u001b[39m.\u001b[39mTensor):\n\u001b[1;32m--> <a href='file:///f%3A/envs/tf2/lib/site-packages/keras/utils/tf_utils.py?line=556'>557</a>\u001b[0m     t \u001b[39m=\u001b[39m t\u001b[39m.\u001b[39;49mnumpy()\n\u001b[0;32m    <a href='file:///f%3A/envs/tf2/lib/site-packages/keras/utils/tf_utils.py?line=557'>558</a>\u001b[0m   \u001b[39m# Strings, ragged and sparse tensors don't have .item(). Return them as-is.\u001b[39;00m\n\u001b[0;32m    <a href='file:///f%3A/envs/tf2/lib/site-packages/keras/utils/tf_utils.py?line=558'>559</a>\u001b[0m   \u001b[39mif\u001b[39;00m \u001b[39mnot\u001b[39;00m \u001b[39misinstance\u001b[39m(t, (np\u001b[39m.\u001b[39mndarray, np\u001b[39m.\u001b[39mgeneric)):\n",
      "File \u001b[1;32mF:\\envs\\tf2\\lib\\site-packages\\tensorflow\\python\\framework\\ops.py:1223\u001b[0m, in \u001b[0;36m_EagerTensorBase.numpy\u001b[1;34m(self)\u001b[0m\n\u001b[0;32m   <a href='file:///f%3A/envs/tf2/lib/site-packages/tensorflow/python/framework/ops.py?line=1199'>1200</a>\u001b[0m \u001b[39m\"\"\"Copy of the contents of this Tensor into a NumPy array or scalar.\u001b[39;00m\n\u001b[0;32m   <a href='file:///f%3A/envs/tf2/lib/site-packages/tensorflow/python/framework/ops.py?line=1200'>1201</a>\u001b[0m \n\u001b[0;32m   <a href='file:///f%3A/envs/tf2/lib/site-packages/tensorflow/python/framework/ops.py?line=1201'>1202</a>\u001b[0m \u001b[39mUnlike NumPy arrays, Tensors are immutable, so this method has to copy\u001b[39;00m\n\u001b[1;32m   (...)\u001b[0m\n\u001b[0;32m   <a href='file:///f%3A/envs/tf2/lib/site-packages/tensorflow/python/framework/ops.py?line=1219'>1220</a>\u001b[0m \u001b[39m    NumPy dtype.\u001b[39;00m\n\u001b[0;32m   <a href='file:///f%3A/envs/tf2/lib/site-packages/tensorflow/python/framework/ops.py?line=1220'>1221</a>\u001b[0m \u001b[39m\"\"\"\u001b[39;00m\n\u001b[0;32m   <a href='file:///f%3A/envs/tf2/lib/site-packages/tensorflow/python/framework/ops.py?line=1221'>1222</a>\u001b[0m \u001b[39m# TODO(slebedev): Consider avoiding a copy for non-CPU or remote tensors.\u001b[39;00m\n\u001b[1;32m-> <a href='file:///f%3A/envs/tf2/lib/site-packages/tensorflow/python/framework/ops.py?line=1222'>1223</a>\u001b[0m maybe_arr \u001b[39m=\u001b[39m \u001b[39mself\u001b[39;49m\u001b[39m.\u001b[39;49m_numpy()  \u001b[39m# pylint: disable=protected-access\u001b[39;00m\n\u001b[0;32m   <a href='file:///f%3A/envs/tf2/lib/site-packages/tensorflow/python/framework/ops.py?line=1223'>1224</a>\u001b[0m \u001b[39mreturn\u001b[39;00m maybe_arr\u001b[39m.\u001b[39mcopy() \u001b[39mif\u001b[39;00m \u001b[39misinstance\u001b[39m(maybe_arr, np\u001b[39m.\u001b[39mndarray) \u001b[39melse\u001b[39;00m maybe_arr\n",
      "File \u001b[1;32mF:\\envs\\tf2\\lib\\site-packages\\tensorflow\\python\\framework\\ops.py:1189\u001b[0m, in \u001b[0;36m_EagerTensorBase._numpy\u001b[1;34m(self)\u001b[0m\n\u001b[0;32m   <a href='file:///f%3A/envs/tf2/lib/site-packages/tensorflow/python/framework/ops.py?line=1186'>1187</a>\u001b[0m \u001b[39mdef\u001b[39;00m \u001b[39m_numpy\u001b[39m(\u001b[39mself\u001b[39m):\n\u001b[0;32m   <a href='file:///f%3A/envs/tf2/lib/site-packages/tensorflow/python/framework/ops.py?line=1187'>1188</a>\u001b[0m   \u001b[39mtry\u001b[39;00m:\n\u001b[1;32m-> <a href='file:///f%3A/envs/tf2/lib/site-packages/tensorflow/python/framework/ops.py?line=1188'>1189</a>\u001b[0m     \u001b[39mreturn\u001b[39;00m \u001b[39mself\u001b[39;49m\u001b[39m.\u001b[39;49m_numpy_internal()\n\u001b[0;32m   <a href='file:///f%3A/envs/tf2/lib/site-packages/tensorflow/python/framework/ops.py?line=1189'>1190</a>\u001b[0m   \u001b[39mexcept\u001b[39;00m core\u001b[39m.\u001b[39m_NotOkStatusException \u001b[39mas\u001b[39;00m e:  \u001b[39m# pylint: disable=protected-access\u001b[39;00m\n\u001b[0;32m   <a href='file:///f%3A/envs/tf2/lib/site-packages/tensorflow/python/framework/ops.py?line=1190'>1191</a>\u001b[0m     \u001b[39mraise\u001b[39;00m core\u001b[39m.\u001b[39m_status_to_exception(e) \u001b[39mfrom\u001b[39;00m \u001b[39mNone\u001b[39m\n",
      "\u001b[1;31mKeyboardInterrupt\u001b[0m: "
     ]
    }
   ],
   "source": [
    "tf.keras.backend.clear_session()\n",
    "\n",
    "callbacks = [\n",
    "    tf.keras.callbacks.TensorBoard(),\n",
    "    tf.keras.callbacks.ModelCheckpoint(\n",
    "        os.path.join('ckpt','training-3-cnn'), \n",
    "        save_weights_only=True)\n",
    "]\n",
    "\n",
    "# model.load_weights(os.path.join('ckpt', 'training-1'))\n",
    "model.fit(x=train_ds, batch_size=batch_size, epochs=80, callbacks=callbacks, validation_data=val_ds, verbose=1)"
   ]
  }
 ],
 "metadata": {
  "interpreter": {
   "hash": "accf17c8cddd7598f858c901abd76bdd6a40d95d35cb16ec1025b995904db703"
  },
  "kernelspec": {
   "display_name": "Python 3.8.13",
   "language": "python",
   "name": "python3"
  },
  "language_info": {
   "codemirror_mode": {
    "name": "ipython",
    "version": 3
   },
   "file_extension": ".py",
   "mimetype": "text/x-python",
   "name": "python",
   "nbconvert_exporter": "python",
   "pygments_lexer": "ipython3",
   "version": "3.8.13"
  },
  "orig_nbformat": 4
 },
 "nbformat": 4,
 "nbformat_minor": 2
}
